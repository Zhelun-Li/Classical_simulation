{
 "cells": [
  {
   "cell_type": "code",
   "execution_count": 1,
   "id": "b6a99c46",
   "metadata": {},
   "outputs": [],
   "source": [
    "from hamiltonians import LGTSchwingerModel\n",
    "from qiskit.circuit.library import EvolvedOperatorAnsatz\n",
    "import numpy as np\n",
    "from qiskit import Aer, QuantumCircuit, QuantumRegister\n",
    "from qiskit.primitives import Estimator, Sampler\n",
    "from qiskit.quantum_info import SparsePauliOp\n",
    "import matplotlib.pyplot as plt"
   ]
  },
  {
   "cell_type": "code",
   "execution_count": 2,
   "id": "fe2a62c3",
   "metadata": {},
   "outputs": [],
   "source": [
    "#VQE ansatz to generate input states\n",
    "def make_VQE_ansatz(num_qubits, mass, num_layers_VQE):\n",
    "    \"\"\"\n",
    "    input:\n",
    "        - num_qubits: number of qubits\n",
    "        - mass: value of mass\n",
    "        - num_layers_VQE: number of layers\n",
    "    output: Hamlitonian ansatz with an initial state |1010...> as QuantumCircuit\n",
    "    note:\n",
    "        - we fix a=1, g=1, theta0 = pi\n",
    "        - need to import LGTSchwingerModel\n",
    "    \"\"\"\n",
    "    #set all the coefficients for each term to physical values\n",
    "    #usually they are fixed to some constants (e.g., 1)\n",
    "    #here we fix a=1, g=1, theta0 = pi\n",
    "    #if we also vary these parameters, we have to change the corresponding arguments\n",
    "    H = LGTSchwingerModel(mass=mass, couple=1, num_sites=num_qubits, spacing=2, left_gauge=1/2)\n",
    "    H_op = H.as_pauli_op()\n",
    "\n",
    "    #we use init01, that means the following initial circuit\n",
    "    init_circ = QuantumCircuit(num_qubits)\n",
    "    for q in range(0, num_qubits, 2):\n",
    "        init_circ.x(q)\n",
    "    #Hamiltonian ansatz\n",
    "    ansatz = EvolvedOperatorAnsatz\n",
    "    varcirc = ansatz(operators=H_op, reps=num_layers_VQE, evolution=None, parameter_prefix='x',initial_state=init_circ)\n",
    "\n",
    "    return varcirc"
   ]
  },
  {
   "cell_type": "code",
   "execution_count": 3,
   "id": "e8da2d6a",
   "metadata": {},
   "outputs": [],
   "source": [
    "file_path='data/schwinger_N8a2/VQE_statevector/init_01/eps0.5_g1_vary_m_-2.0_2.0_0.05_SLSQP_EvolvedOperatorAnsatz_minRev_initPrevOpt_reps5'\n",
    "params_VQE_list = np.load(file_path + \"_VQEparams.npy\").tolist()\n"
   ]
  },
  {
   "cell_type": "code",
   "execution_count": 4,
   "id": "929703ed",
   "metadata": {},
   "outputs": [],
   "source": [
    "elec_field_list_check = []\n",
    "num_qubits = 8\n",
    "num_layers_VQE = 5\n",
    "# mass = 0.5\n",
    "a = 2\n",
    "g = 1\n",
    "mass_min = -2.0\n",
    "mass_max = 2.0\n",
    "mass_step = 0.05\n",
    "mass_list = np.arange(mass_min,mass_max+mass_step,mass_step)\n"
   ]
  },
  {
   "cell_type": "code",
   "execution_count": 5,
   "id": "0f624a18",
   "metadata": {},
   "outputs": [],
   "source": [
    "qc=make_VQE_ansatz(num_qubits, 1, num_layers_VQE)"
   ]
  },
  {
   "cell_type": "code",
   "execution_count": 6,
   "id": "710fb75e",
   "metadata": {},
   "outputs": [
    {
     "data": {
      "text/plain": [
       "<qiskit.circuit.library.evolved_operator_ansatz.EvolvedOperatorAnsatz at 0x12d387340>"
      ]
     },
     "execution_count": 6,
     "metadata": {},
     "output_type": "execute_result"
    }
   ],
   "source": [
    "qc"
   ]
  },
  {
   "cell_type": "code",
   "execution_count": 18,
   "id": "4918c539",
   "metadata": {},
   "outputs": [],
   "source": [
    "estimator=Estimator()\n",
    "\n",
    "ob_list=[]\n",
    "\n",
    "#Symmetric ones:\n",
    "# ob_list.append(SparsePauliOp.from_list([(\"X\" * num_qubits, 1)]))\n",
    "# ob_list.append(SparsePauliOp.from_list([(\"Y\" * num_qubits, 1)]))\n",
    "# ob_list.append(SparsePauliOp.from_list([(\"Z\" * num_qubits, 1)]))\n",
    "\n",
    "# ob_list.append(SparsePauliOp.from_list([(\"XX\"+ \"I\"*(num_qubits-2), 1)]))\n",
    "# ob_list.append(SparsePauliOp.from_list([(\"YY\"+ \"I\"*(num_qubits-2), 1)]))\n",
    "# ob_list.append(SparsePauliOp.from_list([(\"ZZ\"+ \"I\"*(num_qubits-2), 1)]))\n",
    "ob_list.append(SparsePauliOp.from_list([(\"I\"*(num_qubits-2)+\"ZZ\", 1)]))\n",
    "\n",
    "# ob_list.append(SparsePauliOp.from_list([(\"I\"*(num_qubits-2)+\"XX\", 1)]))\n",
    "# ob_list.append(SparsePauliOp.from_list([(\"I\"*(num_qubits-2)+\"YY\", 1)]))\n",
    "# ob_list.append(SparsePauliOp.from_list([(\"I\"*(num_qubits-2)+\"ZZ\", 1)]))\n",
    "\n"
   ]
  },
  {
   "cell_type": "code",
   "execution_count": 19,
   "id": "f8dbc284",
   "metadata": {},
   "outputs": [
    {
     "data": {
      "text/plain": [
       "array([0.95356871])"
      ]
     },
     "execution_count": 19,
     "metadata": {},
     "output_type": "execute_result"
    }
   ],
   "source": [
    "estimator.run(circuits=[qc]*len(ob_list),\n",
    "                        observables=ob_list,\n",
    "                        parameter_values=[params_VQE_list[0]]*len(ob_list)).result().values"
   ]
  },
  {
   "cell_type": "code",
   "execution_count": 20,
   "id": "17824d53",
   "metadata": {},
   "outputs": [
    {
     "data": {
      "text/plain": [
       "array([-0.94907173])"
      ]
     },
     "execution_count": 20,
     "metadata": {},
     "output_type": "execute_result"
    }
   ],
   "source": [
    "estimator.run(circuits=[qc]*len(ob_list),\n",
    "                        observables=ob_list,\n",
    "                        parameter_values=[params_VQE_list[-1]]*len(ob_list)).result().values"
   ]
  },
  {
   "cell_type": "code",
   "execution_count": 21,
   "id": "6fd9a6cd",
   "metadata": {
    "scrolled": true
   },
   "outputs": [
    {
     "name": "stdout",
     "output_type": "stream",
     "text": [
      "0\n",
      "1\n",
      "2\n",
      "3\n",
      "4\n",
      "5\n",
      "6\n",
      "7\n",
      "8\n",
      "9\n",
      "10\n",
      "11\n",
      "12\n",
      "13\n",
      "14\n",
      "15\n",
      "16\n",
      "17\n",
      "18\n",
      "19\n",
      "20\n",
      "21\n",
      "22\n",
      "23\n",
      "24\n",
      "25\n",
      "26\n",
      "27\n",
      "28\n",
      "29\n",
      "30\n",
      "31\n",
      "32\n",
      "33\n",
      "34\n",
      "35\n",
      "36\n",
      "37\n",
      "38\n",
      "39\n",
      "40\n",
      "41\n",
      "42\n",
      "43\n",
      "44\n",
      "45\n",
      "46\n",
      "47\n",
      "48\n",
      "49\n",
      "50\n",
      "51\n",
      "52\n",
      "53\n",
      "54\n",
      "55\n",
      "56\n",
      "57\n",
      "58\n",
      "59\n",
      "60\n",
      "61\n",
      "62\n",
      "63\n",
      "64\n",
      "65\n",
      "66\n",
      "67\n",
      "68\n",
      "69\n",
      "70\n",
      "71\n",
      "72\n",
      "73\n",
      "74\n",
      "75\n",
      "76\n",
      "77\n",
      "78\n",
      "79\n",
      "80\n"
     ]
    }
   ],
   "source": [
    "num_data = mass_list.shape[0]\n",
    "label_list = [0]*num_data\n",
    "# mass_crit = 0.14189315334855837 #obtained from ED, Feb. 14, 2023\n",
    "mass_crit = 0.143 #obtained from ED, June. 10, 2023\n",
    "\n",
    "tomographic_data=[]\n",
    "for index, mass in enumerate(mass_list):\n",
    "    print(index)\n",
    "    results=estimator.run(circuits=[qc]*len(ob_list),\n",
    "                        observables=ob_list,\n",
    "                        parameter_values=[params_VQE_list[index]]*len(ob_list)).result().values\n",
    "    tomographic_data.append(results)\n",
    "    if mass>mass_crit:\n",
    "        label_list[index] = 1"
   ]
  },
  {
   "cell_type": "code",
   "execution_count": 22,
   "id": "e0f66252",
   "metadata": {},
   "outputs": [],
   "source": [
    "tomographic_data=np.array(tomographic_data)\n",
    "label_list=np.array(label_list)"
   ]
  },
  {
   "cell_type": "code",
   "execution_count": 23,
   "id": "b0445506",
   "metadata": {},
   "outputs": [],
   "source": [
    "X_train=[]\n",
    "y_train=[]\n",
    "mass_train=[]\n",
    "X_test=[]\n",
    "y_test=[]\n",
    "mass_test=[]\n",
    "for i in range(label_list.shape[0]):\n",
    "    if i%5==0:\n",
    "        X_test.append(tomographic_data[i])\n",
    "        y_test.append(label_list[i])\n",
    "        mass_test.append(mass_list[i])\n",
    "        \n",
    "    else:\n",
    "        X_train.append(tomographic_data[i])\n",
    "        y_train.append(label_list[i])\n",
    "        mass_train.append(mass_list[i])\n",
    "        \n"
   ]
  },
  {
   "cell_type": "code",
   "execution_count": 24,
   "id": "42890e8a",
   "metadata": {},
   "outputs": [],
   "source": [
    "X_train=np.array(X_train)\n",
    "y_train=np.array(y_train)\n",
    "\n",
    "X_test=np.array(X_test)\n",
    "y_test=np.array(y_test)\n",
    "\n",
    "\n",
    "y_train[y_train==-1]=0\n",
    "y_test[y_test==-1]=0"
   ]
  },
  {
   "cell_type": "code",
   "execution_count": 25,
   "id": "f396b1f3",
   "metadata": {},
   "outputs": [
    {
     "data": {
      "text/plain": [
       "<matplotlib.collections.LineCollection at 0x17dfb3940>"
      ]
     },
     "execution_count": 25,
     "metadata": {},
     "output_type": "execute_result"
    },
    {
     "data": {
      "image/png": "[encoded data removed]",
      "text/plain": [
       "<Figure size 432x288 with 1 Axes>"
      ]
     },
     "metadata": {
      "needs_background": "light"
     },
     "output_type": "display_data"
    }
   ],
   "source": [
    "plt.scatter(mass_train,X_train.flatten(),label='train')\n",
    "plt.vlines(x=mass_crit,ymin=-1,ymax=1, colors='gray', linestyle='dashed')"
   ]
  },
  {
   "cell_type": "code",
   "execution_count": null,
   "id": "fdb095a2",
   "metadata": {},
   "outputs": [],
   "source": []
  },
  {
   "cell_type": "code",
   "execution_count": null,
   "id": "88bb4912",
   "metadata": {},
   "outputs": [],
   "source": []
  },
  {
   "cell_type": "code",
   "execution_count": null,
   "id": "06c87434",
   "metadata": {},
   "outputs": [],
   "source": []
  },
  {
   "cell_type": "code",
   "execution_count": 15,
   "id": "ae45a60d",
   "metadata": {},
   "outputs": [],
   "source": [
    "import tensorflow as tf\n"
   ]
  },
  {
   "cell_type": "code",
   "execution_count": 16,
   "id": "4f6e1fad",
   "metadata": {},
   "outputs": [],
   "source": [
    "model = tf.keras.models.Sequential([\n",
    "    tf.keras.layers.Dense(20, activation='relu'),\n",
    "    tf.keras.layers.Dense(20, activation='relu'),\n",
    "#    tf.keras.layers.Dense(30, activation='relu'),\n",
    "      tf.keras.layers.Dense(1, activation='sigmoid'),  \n",
    "])\n"
   ]
  },
  {
   "cell_type": "code",
   "execution_count": null,
   "id": "2718868f",
   "metadata": {},
   "outputs": [],
   "source": [
    "loss_fn = tf.keras.losses.BinaryCrossentropy()\n",
    "model.compile(optimizer='adam',\n",
    "              loss=loss_fn,\n",
    "              metrics=['accuracy'])\n"
   ]
  },
  {
   "cell_type": "code",
   "execution_count": null,
   "id": "3474d7e0",
   "metadata": {},
   "outputs": [],
   "source": []
  },
  {
   "cell_type": "code",
   "execution_count": null,
   "id": "06597b6f",
   "metadata": {},
   "outputs": [],
   "source": [
    "history = model.fit(X_train, y_train, validation_split = 0.1 ,epochs=300)\n"
   ]
  },
  {
   "cell_type": "code",
   "execution_count": null,
   "id": "6dad659f",
   "metadata": {},
   "outputs": [],
   "source": [
    "plt.plot(history.history['accuracy'])\n",
    "plt.plot(history.history['val_accuracy'])\n",
    "plt.title('Model accuracy')\n",
    "plt.ylabel('Accuracy')\n",
    "plt.xlabel('Epoch')\n",
    "plt.legend(['train', 'validation'])\n",
    "plt.show()"
   ]
  },
  {
   "cell_type": "code",
   "execution_count": null,
   "id": "bb91664b",
   "metadata": {},
   "outputs": [],
   "source": [
    "plt.plot(history.history['loss'])\n",
    "plt.plot(history.history['val_loss'])\n",
    "plt.title('Loss')\n",
    "plt.ylabel('Loss')\n",
    "plt.xlabel('Epoch')\n",
    "plt.legend(['train', 'validation'], loc='upper left')\n",
    "plt.show()"
   ]
  },
  {
   "cell_type": "code",
   "execution_count": null,
   "id": "181f0f72",
   "metadata": {},
   "outputs": [],
   "source": [
    "predict_train=model.predict(X_train).flatten()\n",
    "predict_test=model.predict(X_test).flatten()"
   ]
  },
  {
   "cell_type": "code",
   "execution_count": null,
   "id": "27a8f531",
   "metadata": {},
   "outputs": [],
   "source": [
    "\n",
    "\n",
    "plt.scatter(mass_train,predict_train,label='train')\n",
    "plt.scatter(mass_test,predict_test,label='test')\n",
    "plt.vlines(x=mass_crit,ymin=0,ymax=1, colors='gray', linestyle='dashed')\n",
    "\n",
    "plt.xlabel('$g$',fontsize='15')\n",
    "plt.ylabel('probability',fontsize='15')\n",
    "plt.legend()"
   ]
  },
  {
   "cell_type": "code",
   "execution_count": null,
   "id": "89a74745",
   "metadata": {},
   "outputs": [],
   "source": []
  },
  {
   "cell_type": "code",
   "execution_count": null,
   "id": "d4cb5f6d",
   "metadata": {},
   "outputs": [],
   "source": []
  },
  {
   "cell_type": "code",
   "execution_count": null,
   "id": "747d54a5",
   "metadata": {},
   "outputs": [],
   "source": []
  },
  {
   "cell_type": "code",
   "execution_count": null,
   "id": "3c2e2eff",
   "metadata": {},
   "outputs": [],
   "source": []
  },
  {
   "cell_type": "code",
   "execution_count": null,
   "id": "d8203111",
   "metadata": {},
   "outputs": [],
   "source": []
  }
 ],
 "metadata": {
  "kernelspec": {
   "display_name": "qc",
   "language": "python",
   "name": "qc"
  },
  "language_info": {
   "codemirror_mode": {
    "name": "ipython",
    "version": 3
   },
   "file_extension": ".py",
   "mimetype": "text/x-python",
   "name": "python",
   "nbconvert_exporter": "python",
   "pygments_lexer": "ipython3",
   "version": "3.10.4"
  }
 },
 "nbformat": 4,
 "nbformat_minor": 5
}
