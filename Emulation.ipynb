{
 "cells": [
  {
   "cell_type": "code",
   "execution_count": null,
   "id": "ce72e517",
   "metadata": {},
   "outputs": [],
   "source": [
    "import numpy as np\n",
    "from qiskit import QuantumCircuit, QuantumRegister\n",
    "from qiskit.primitives import Estimator, Sampler\n",
    "from qiskit.quantum_info import SparsePauliOp\n",
    "import matplotlib.pyplot as plt\n",
    "from qiskit.circuit.library import EfficientSU2,RealAmplitudes"
   ]
  },
  {
   "cell_type": "code",
   "execution_count": null,
   "id": "9bf0eccf",
   "metadata": {},
   "outputs": [],
   "source": [
    "n_qubits=5\n",
    "\n",
    "L=2"
   ]
  },
  {
   "cell_type": "code",
   "execution_count": null,
   "id": "0e680167",
   "metadata": {},
   "outputs": [],
   "source": [
    "sampler = Sampler()\n",
    "estimator = Estimator()\n",
    "ob = SparsePauliOp.from_list([(\"Z\"+\"I\"*(n_qubits-1), 1)])\n",
    "print(ob)"
   ]
  },
  {
   "cell_type": "code",
   "execution_count": null,
   "id": "66ab153a",
   "metadata": {},
   "outputs": [],
   "source": [
    "ob_list1 = []\n",
    "for a in ['X','Y','Z','I']:\n",
    "    op = SparsePauliOp.from_list([(a+\"I\"*(n_qubits-1), 1)])\n",
    "    ob_list1.append(op)\n",
    "            \n",
    "ob_list2 = []\n",
    "for a in ['X','Y','Z','I']:\n",
    "    for b in ['X','Y','Z','I']:\n",
    "        pauli = a+b\n",
    "        if pauli != 'II':\n",
    "            op = SparsePauliOp.from_list([(pauli+\"I\"*(n_qubits-2), 1)])\n",
    "            ob_list2.append(op)\n",
    "                \n",
    "ob_list3 = []\n",
    "for a in ['X','Y','Z','I']:\n",
    "    for b in ['X','Y','Z','I']:\n",
    "        for c in ['X','Y','Z','I']:\n",
    "            pauli = a+b+c\n",
    "            if pauli != 'III':\n",
    "                op = SparsePauliOp.from_list([(pauli+\"I\"*(n_qubits-3), 1)])\n",
    "                ob_list3.append(op)\n",
    "\n",
    "                    \n",
    "ob_list4 = []\n",
    "for a in ['X','Y','Z','I']:\n",
    "    for b in ['X','Y','Z','I']:\n",
    "        for c in ['X','Y','Z','I']:\n",
    "            for d in ['X','Y','Z','I']:\n",
    "                pauli = a+b+c+d\n",
    "                if pauli != 'IIII':\n",
    "                    op = SparsePauliOp.from_list([(pauli+\"I\"*(n_qubits-4), 1)])\n",
    "                    ob_list4.append(op)\n",
    "\n",
    "ob_list5 = []\n",
    "for a in ['X','Y','Z','I']:\n",
    "    for b in ['X','Y','Z','I']:\n",
    "        for c in ['X','Y','Z','I']:\n",
    "            for d in['X','Y','Z','I']:\n",
    "                for e in ['X','Y','Z','I']:\n",
    "                    pauli = a+b+c+d+e\n",
    "                    if pauli != 'IIII':\n",
    "                        op = SparsePauliOp.from_list([(pauli+\"I\"*(n_qubits-5), 1)])\n",
    "                        ob_list5.append(op)"
   ]
  },
  {
   "cell_type": "code",
   "execution_count": null,
   "id": "10309ceb",
   "metadata": {
    "scrolled": true
   },
   "outputs": [],
   "source": [
    "deck = list(range(0, len(ob_list5)))\n",
    "np.random.shuffle(deck)\n",
    "index=deck[0:len(ob_list3)]\n",
    "\n",
    "ob_list3_random = []\n",
    "for i in range(len(ob_list5)):\n",
    "    \n",
    "    if i in index:\n",
    "        ob_list3_random.append(ob_list5[i])"
   ]
  },
  {
   "cell_type": "code",
   "execution_count": null,
   "id": "11848a9d",
   "metadata": {},
   "outputs": [],
   "source": []
  },
  {
   "cell_type": "code",
   "execution_count": null,
   "id": "e4ad0a0e",
   "metadata": {
    "scrolled": false
   },
   "outputs": [],
   "source": [
    "#Create datasets:\n",
    "\n",
    "n_reps_init=5\n",
    "\n",
    "# qc_init = QuantumCircuit(n_qubits,len(measured_bits))\n",
    "# ansatz_init =  RealAmplitudes(num_qubits=n_qubits,reps=n_reps_init,parameter_prefix='w')\n",
    "# qc_init.compose(ansatz_init, inplace=True)  \n",
    "# qc_init.measure(measured_bits,list(range(len(measured_bits))))\n",
    "\n",
    "qc_init = QuantumCircuit(n_qubits)\n",
    "ansatz_init =  RealAmplitudes(num_qubits=n_qubits,reps=n_reps_init,parameter_prefix='w')\n",
    "qc_init.compose(ansatz_init, inplace=True)  \n",
    "\n",
    "qc_all = QuantumCircuit(n_qubits)\n",
    "ansatz_init2 =  RealAmplitudes(num_qubits=n_qubits,reps=n_reps_init,parameter_prefix='w2')\n",
    "qc_all.compose(ansatz_init2, inplace=True)  \n",
    "qc_all.barrier()\n",
    "ansatz =  RealAmplitudes(num_qubits=n_qubits,reps=L,parameter_prefix='a')\n",
    "qc_all.compose(ansatz,inplace=True)\n",
    "VQA_params = 2*np.pi*np.random.rand(qc_all.num_parameters-qc_init.num_parameters)\n",
    "\n",
    "param_init_list = []\n",
    "info1_list = []\n",
    "info2_list = []\n",
    "info3_list = []\n",
    "info3_list_random = []\n",
    "info4_list = []\n",
    "output_list = []\n",
    "\n",
    "for i in range(3000):\n",
    "    if i%50==0:\n",
    "        print(i,\" samples prepared\")\n",
    "    param_init=2*np.pi*np.random.rand(qc_init.num_parameters)\n",
    "    params_all = np.concatenate([VQA_params,param_init])\n",
    "    \n",
    "    info1 = estimator.run([qc_init]*len(ob_list1),observables=ob_list1,parameter_values=[param_init]*len(ob_list1)).result().values\n",
    "    info2 = estimator.run([qc_init]*len(ob_list2),observables=ob_list2,parameter_values=[param_init]*len(ob_list2)).result().values\n",
    "    info3 = estimator.run([qc_init]*len(ob_list3),observables=ob_list3,parameter_values=[param_init]*len(ob_list3)).result().values\n",
    "    info3_random = estimator.run([qc_init]*len(ob_list3_random),observables=ob_list3_random,parameter_values=[param_init]*len(ob_list3_random)).result().values\n",
    "    info4 = estimator.run([qc_init]*len(ob_list4),observables=ob_list4,parameter_values=[param_init]*len(ob_list4)).result().values\n",
    "   \n",
    "    output = estimator.run(qc_all,observables=ob,parameter_values=params_all).result().values[0]\n",
    "\n",
    "    param_init_list.append(param_init)\n",
    "    info1_list.append(info1)\n",
    "    info2_list.append(info2)\n",
    "    info3_list.append(info3)\n",
    "    info3_list_random.append(info3_random)\n",
    "    info4_list.append(info4)\n",
    "    output_list.append(output)\n",
    "    \n",
    "param_init_list = np.array(param_init_list)\n",
    "info1_list = np.array(info1_list)\n",
    "info2_list = np.array(info2_list)\n",
    "info3_list = np.array(info3_list)\n",
    "info3_list_random = np.array(info3_list_random)\n",
    "info4_list = np.array(info4_list)\n",
    "output_list = np.array(output_list)\n",
    "    "
   ]
  },
  {
   "cell_type": "code",
   "execution_count": null,
   "id": "7a81a209",
   "metadata": {
    "scrolled": true
   },
   "outputs": [],
   "source": [
    "qc_all.decompose().draw('mpl')"
   ]
  },
  {
   "cell_type": "code",
   "execution_count": null,
   "id": "abbbf26a",
   "metadata": {},
   "outputs": [],
   "source": [
    "#turning into classification problem:\n",
    "output_list=np.floor(output_list)+1"
   ]
  },
  {
   "cell_type": "code",
   "execution_count": null,
   "id": "25c1ca36",
   "metadata": {},
   "outputs": [],
   "source": [
    "np.save(\"dataset/info1_list_L{}\".format(L), info1_list)\n",
    "np.save(\"dataset/info2_list_L{}\".format(L), info2_list)\n",
    "np.save(\"dataset/info3_list_L{}\".format(L), info3_list)\n",
    "np.save(\"dataset/info3_list_L{}_random\".format(L), info3_list_random)\n",
    "np.save(\"dataset/info4_list_L{}\".format(L), info4_list)\n",
    "np.save(\"dataset/output_list_L{}\".format(L), output_list)"
   ]
  },
  {
   "cell_type": "code",
   "execution_count": null,
   "id": "1c74d62b",
   "metadata": {},
   "outputs": [],
   "source": [
    "#classical NN:\n",
    "import tensorflow as tf\n",
    "from sklearn.model_selection import train_test_split"
   ]
  },
  {
   "cell_type": "code",
   "execution_count": null,
   "id": "1d86a680",
   "metadata": {},
   "outputs": [],
   "source": [
    "X_train1, X_test1, y_train1, y_test1 = train_test_split(\n",
    "       info1_list, output_list, test_size=0.1, random_state=42)\n",
    "X_train2, X_test2, y_train2, y_test2 = train_test_split(\n",
    "       info2_list, output_list, test_size=0.1, random_state=42)\n",
    "X_train3, X_test3, y_train3, y_test3 = train_test_split(\n",
    "       info3_list, output_list, test_size=0.1, random_state=42)\n",
    "\n",
    "X_train3_random, X_test3_random, y_train3_random, y_test3_random = train_test_split(\n",
    "       info3_list_random, output_list, test_size=0.1, random_state=42)\n",
    "\n",
    "X_train4, X_test4, y_train4, y_test4 = train_test_split(\n",
    "       info4_list, output_list, test_size=0.1, random_state=42)"
   ]
  },
  {
   "cell_type": "code",
   "execution_count": null,
   "id": "679fe19e",
   "metadata": {},
   "outputs": [],
   "source": []
  },
  {
   "cell_type": "code",
   "execution_count": null,
   "id": "5c6bdf2f",
   "metadata": {},
   "outputs": [],
   "source": [
    "def train(X_train,y_train,regularization = 0.01,loss_fn = tf.keras.losses.BinaryCrossentropy()):\n",
    "    n_neurons=100\n",
    "    \n",
    "    model = tf.keras.models.Sequential([\n",
    "        tf.keras.layers.Dense(n_neurons, activation='relu', kernel_regularizer=tf.keras.regularizers.l2(regularization )),\n",
    "        tf.keras.layers.Dense(n_neurons, activation='relu', kernel_regularizer=tf.keras.regularizers.l2(regularization )),\n",
    "        tf.keras.layers.Dense(n_neurons, activation='relu', kernel_regularizer=tf.keras.regularizers.l2(regularization )),\n",
    "        tf.keras.layers.Dense(n_neurons, activation='relu', kernel_regularizer=tf.keras.regularizers.l2(regularization )),\n",
    "\n",
    "        tf.keras.layers.Dense(1, activation='sigmoid'),  \n",
    "    ])\n",
    "\n",
    "    model.compile(optimizer=\"adam\",\n",
    "                  loss=loss_fn,\n",
    "                 metrics=['BinaryCrossentropy','accuracy'])\n",
    "\n",
    "    best_model_path=\"bestmodel\"\n",
    "    save_best_model = tf.keras.callbacks.ModelCheckpoint(best_model_path, monitor='val_loss', \n",
    "                                      save_best_only=True, save_weights_only=True)\n",
    "\n",
    "    history = model.fit(X_train, y_train, validation_split = 0.2 ,epochs=100,callbacks=[save_best_model])\n",
    "    model.load_weights(best_model_path)\n",
    "    \n",
    "    return model,history"
   ]
  },
  {
   "cell_type": "code",
   "execution_count": null,
   "id": "5188c87a",
   "metadata": {},
   "outputs": [],
   "source": [
    "model1,history1=train(X_train1,y_train1)"
   ]
  },
  {
   "cell_type": "code",
   "execution_count": null,
   "id": "a8e080f1",
   "metadata": {},
   "outputs": [],
   "source": [
    "model2,history2=train(X_train2,y_train2)"
   ]
  },
  {
   "cell_type": "code",
   "execution_count": null,
   "id": "8f181ebb",
   "metadata": {},
   "outputs": [],
   "source": [
    "model3,history3=train(X_train3,y_train3)"
   ]
  },
  {
   "cell_type": "code",
   "execution_count": null,
   "id": "85310d39",
   "metadata": {},
   "outputs": [],
   "source": [
    "model3_random,history3_random=train(X_train3_random,y_train3_random)"
   ]
  },
  {
   "cell_type": "code",
   "execution_count": null,
   "id": "11e51005",
   "metadata": {},
   "outputs": [],
   "source": [
    "model4,history4=train(X_train4,y_train4)"
   ]
  },
  {
   "cell_type": "code",
   "execution_count": null,
   "id": "04a22bb5",
   "metadata": {},
   "outputs": [],
   "source": [
    "\n",
    "LabelSize=30\n",
    "plt.figure(1)\n",
    "plt.figure(figsize=(16,9))\n",
    "plt.plot(history1.history['loss'],label = \"1qubit info (train)\")\n",
    "plt.plot(history2.history['loss'],label = \"2qubit info (train)\")\n",
    "plt.plot(history3.history['loss'],label = \"3qubit info (train)\")\n",
    "plt.plot(history3_random.history['loss'],label = \"3qubit info random (train)\")\n",
    "plt.plot(history4.history['loss'],label = \"4qubit info (train)\")\n",
    "\n",
    "plt.yscale('log')\n",
    "plt.title('Training Loss (L={})'.format(L),fontsize=LabelSize)\n",
    "plt.ylabel('Loss',fontsize=LabelSize)\n",
    "plt.xlabel('Epoch',fontsize=LabelSize)\n",
    "plt.tick_params(axis='both', which='major', labelsize=LabelSize)\n",
    "plt.legend(fontsize=0.5*LabelSize)\n",
    "plt.savefig(\"plots/Training_loss_L{}\".format(L))\n",
    "plt.show()\n"
   ]
  },
  {
   "cell_type": "code",
   "execution_count": null,
   "id": "8930e786",
   "metadata": {},
   "outputs": [],
   "source": [
    "plt.figure(1)\n",
    "plt.figure(figsize=(16,9))\n",
    "plt.plot(history1.history['val_loss'],label = \"1qubit info (val)\")\n",
    "plt.plot(history2.history['val_loss'],label = \"2qubit info (val)\")\n",
    "plt.plot(history3.history['val_loss'],label = \"3qubit info (val)\")\n",
    "plt.plot(history3_random.history['val_loss'],label = \"3qubit info random (val)\")\n",
    "plt.plot(history4.history['val_loss'],label = \"4qubit info (val)\")\n",
    "plt.yscale('log')\n",
    "\n",
    "plt.title('Validation Loss (L={})'.format(L),fontsize=LabelSize)\n",
    "plt.ylabel('Loss',fontsize=LabelSize)\n",
    "plt.xlabel('Epoch',fontsize=LabelSize)\n",
    "plt.tick_params(axis='both', which='major', labelsize=LabelSize)\n",
    "plt.legend(fontsize=0.5*LabelSize)\n",
    "plt.savefig(\"plots/Validation_loss_L{}\".format(L))\n",
    "plt.show()"
   ]
  },
  {
   "cell_type": "code",
   "execution_count": null,
   "id": "7c56dee5",
   "metadata": {},
   "outputs": [],
   "source": []
  },
  {
   "cell_type": "code",
   "execution_count": null,
   "id": "e58c76c9",
   "metadata": {},
   "outputs": [],
   "source": [
    "plt.figure(1)\n",
    "plt.figure(figsize=(16,9))\n",
    "plt.plot(history1.history['accuracy'],label = \"1qubit info (train)\")\n",
    "plt.plot(history2.history['accuracy'],label = \"2qubit info (train)\")\n",
    "plt.plot(history3.history['accuracy'],label = \"3qubit info (train)\")\n",
    "plt.plot(history3_random.history['accuracy'],label = \"3qubit info random (train)\")\n",
    "plt.plot(history4.history['accuracy'],label = \"4qubit info (train)\")\n",
    "\n",
    "\n",
    "#plt.yscale('log')\n",
    "plt.title('Training Accuracy (L={})'.format(L),fontsize=LabelSize)\n",
    "plt.ylabel('accuracy',fontsize=LabelSize)\n",
    "plt.xlabel('Epoch',fontsize=LabelSize)\n",
    "plt.tick_params(axis='both', which='major', labelsize=LabelSize)\n",
    "plt.legend(fontsize=LabelSize)\n",
    "plt.savefig(\"Training_acc_L{}\".format(L))\n",
    "plt.show()"
   ]
  },
  {
   "cell_type": "code",
   "execution_count": null,
   "id": "b9eb718f",
   "metadata": {},
   "outputs": [],
   "source": [
    "plt.figure(1)\n",
    "plt.figure(figsize=(16,9))\n",
    "plt.plot(history1.history['val_accuracy'],label = \"1qubit info (val)\")\n",
    "plt.plot(history2.history['val_accuracy'],label = \"2qubit info (val)\")\n",
    "plt.plot(history3.history['val_accuracy'],label = \"3qubit info (val)\")\n",
    "plt.plot(history3_random.history['val_accuracy'],label = \"3qubit info random (val)\")\n",
    "plt.plot(history4.history['val_accuracy'],label = \"4qubit info (val)\")\n",
    "#plt.yscale('log')\n",
    "plt.title('Validation Accuracy (L={})'.format(L),fontsize=LabelSize)\n",
    "plt.ylabel('accuracy',fontsize=LabelSize)\n",
    "plt.xlabel('Epoch',fontsize=LabelSize)\n",
    "plt.tick_params(axis='both', which='major', labelsize=LabelSize)\n",
    "plt.legend(fontsize=LabelSize)\n",
    "plt.savefig(\"validation_acc_L{}\".format(L))\n",
    "plt.show()"
   ]
  },
  {
   "cell_type": "code",
   "execution_count": null,
   "id": "1aab4f0c",
   "metadata": {},
   "outputs": [],
   "source": []
  },
  {
   "cell_type": "code",
   "execution_count": null,
   "id": "d59116b8",
   "metadata": {},
   "outputs": [],
   "source": []
  },
  {
   "cell_type": "code",
   "execution_count": null,
   "id": "3e8c1e58",
   "metadata": {},
   "outputs": [],
   "source": []
  },
  {
   "cell_type": "code",
   "execution_count": null,
   "id": "0b1f330e",
   "metadata": {},
   "outputs": [],
   "source": []
  },
  {
   "cell_type": "code",
   "execution_count": null,
   "id": "62cbf48b",
   "metadata": {},
   "outputs": [],
   "source": []
  },
  {
   "cell_type": "code",
   "execution_count": null,
   "id": "c7239f5b",
   "metadata": {},
   "outputs": [],
   "source": []
  },
  {
   "cell_type": "code",
   "execution_count": null,
   "id": "7450fed6",
   "metadata": {},
   "outputs": [],
   "source": []
  },
  {
   "cell_type": "code",
   "execution_count": null,
   "id": "1d0cd1b0",
   "metadata": {},
   "outputs": [],
   "source": []
  },
  {
   "cell_type": "code",
   "execution_count": null,
   "id": "0577c490",
   "metadata": {},
   "outputs": [],
   "source": []
  },
  {
   "cell_type": "code",
   "execution_count": null,
   "id": "6519244b",
   "metadata": {},
   "outputs": [],
   "source": []
  },
  {
   "cell_type": "code",
   "execution_count": null,
   "id": "93d09137",
   "metadata": {},
   "outputs": [],
   "source": []
  },
  {
   "cell_type": "code",
   "execution_count": null,
   "id": "be285569",
   "metadata": {},
   "outputs": [],
   "source": []
  },
  {
   "cell_type": "code",
   "execution_count": null,
   "id": "2e2d20cb",
   "metadata": {},
   "outputs": [],
   "source": []
  },
  {
   "cell_type": "code",
   "execution_count": null,
   "id": "85bb46ba",
   "metadata": {},
   "outputs": [],
   "source": []
  }
 ],
 "metadata": {
  "kernelspec": {
   "display_name": "qc",
   "language": "python",
   "name": "qc"
  },
  "language_info": {
   "codemirror_mode": {
    "name": "ipython",
    "version": 3
   },
   "file_extension": ".py",
   "mimetype": "text/x-python",
   "name": "python",
   "nbconvert_exporter": "python",
   "pygments_lexer": "ipython3",
   "version": "3.10.4"
  }
 },
 "nbformat": 4,
 "nbformat_minor": 5
}
